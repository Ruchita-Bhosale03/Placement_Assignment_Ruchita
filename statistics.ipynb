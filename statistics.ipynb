{
 "cells": [
  {
   "cell_type": "code",
   "execution_count": 1,
   "metadata": {},
   "outputs": [
    {
     "name": "stdout",
     "output_type": "stream",
     "text": [
      "Collecting scipyNote: you may need to restart the kernel to use updated packages.\n",
      "\n",
      "  Using cached scipy-1.10.1-cp38-cp38-win_amd64.whl (42.2 MB)\n",
      "Requirement already satisfied: numpy<1.27.0,>=1.19.5 in c:\\users\\ecs\\appdata\\local\\programs\\python\\python38\\lib\\site-packages (from scipy) (1.24.2)\n",
      "Installing collected packages: scipy\n",
      "Successfully installed scipy-1.10.1\n"
     ]
    },
    {
     "name": "stderr",
     "output_type": "stream",
     "text": [
      "\n",
      "[notice] A new release of pip is available: 23.0.1 -> 23.1.2\n",
      "[notice] To update, run: python.exe -m pip install --upgrade pip\n"
     ]
    }
   ],
   "source": [
    "pip install scipy"
   ]
  },
  {
   "attachments": {},
   "cell_type": "markdown",
   "metadata": {},
   "source": [
    "Q-2. Consider a dataset containing the heights (in centimeters) of 1000 individuals. The\n",
    "mean height is 170 cm with a standard deviation of 10 cm. The dataset is approximately\n",
    "normally distributed, and its skewness is approximately zero. Based on this information,\n",
    "answer the following questions:\n",
    "\n",
    "a. What percentage of individuals in the dataset have heights between 160 cm\n",
    "and 180 cm?"
   ]
  },
  {
   "cell_type": "code",
   "execution_count": 2,
   "metadata": {},
   "outputs": [
    {
     "name": "stdout",
     "output_type": "stream",
     "text": [
      "The percentage of individuals with heights between 160 cm and 180 cm is approximately: 68.27%\n"
     ]
    }
   ],
   "source": [
    "import scipy.stats as stats\n",
    "\n",
    "mean = 170\n",
    "std_dev = 10\n",
    "\n",
    "lower_height = 160\n",
    "upper_height = 180\n",
    "\n",
    "# Calculate the Z-scores\n",
    "z1 = (lower_height - mean) / std_dev\n",
    "z2 = (upper_height - mean) / std_dev\n",
    "\n",
    "# Calculate the percentage using the cumulative distribution function (CDF)\n",
    "percentage = stats.norm.cdf(z2) - stats.norm.cdf(z1)\n",
    "percentage *= 100\n",
    "\n",
    "print(f\"The percentage of individuals with heights between {lower_height} cm and {upper_height} cm is approximately: {percentage:.2f}%\")\n",
    "\n"
   ]
  },
  {
   "attachments": {},
   "cell_type": "markdown",
   "metadata": {},
   "source": [
    "b. If we randomly select 100 individuals from the dataset, what is the probability that their average height is greater than 175 cm?"
   ]
  },
  {
   "cell_type": "code",
   "execution_count": 6,
   "metadata": {},
   "outputs": [
    {
     "name": "stdout",
     "output_type": "stream",
     "text": [
      "The probability that the average height of a random sample of 100 individuals is greater than 175 cm is approximately: 2.866515719235352e-07\n"
     ]
    }
   ],
   "source": [
    "import scipy.stats as stats\n",
    "\n",
    "mean = 170\n",
    "std_dev = 10\n",
    "sample_size = 100\n",
    "average_height_of_interest = 175\n",
    "\n",
    "# Calculate the standard error\n",
    "standard_error = std_dev / (sample_size ** 0.5)\n",
    "\n",
    "# Calculate the Z-score\n",
    "z = (average_height_of_interest - mean) / standard_error\n",
    "\n",
    "# Calculate the probability \n",
    "probability = 1 - stats.norm.cdf(z)\n",
    "\n",
    "print(f\"The probability that the average height of a random sample of 100 individuals is greater than {average_height_of_interest} cm is approximately: {probability}\")\n",
    "\n"
   ]
  },
  {
   "attachments": {},
   "cell_type": "markdown",
   "metadata": {},
   "source": [
    "c. Assuming the dataset follows a normal distribution, what is the z-score\n",
    "corresponding to a height of 185 cm?"
   ]
  },
  {
   "cell_type": "code",
   "execution_count": 7,
   "metadata": {},
   "outputs": [
    {
     "name": "stdout",
     "output_type": "stream",
     "text": [
      "The Z-score corresponding to a height of 185 cm is: 1.5\n"
     ]
    }
   ],
   "source": [
    "mean = 170\n",
    "std_dev = 10\n",
    "height_of_interest = 185\n",
    "\n",
    "# Calculate the Z-score\n",
    "z = (height_of_interest - mean) / std_dev\n",
    "\n",
    "print(f\"The Z-score corresponding to a height of {height_of_interest} cm is: {z}\")"
   ]
  },
  {
   "attachments": {},
   "cell_type": "markdown",
   "metadata": {},
   "source": [
    "d. We know that 5% of the dataset has heights below a certain value. What is\n",
    "the approximate height corresponding to this threshold?"
   ]
  },
  {
   "cell_type": "code",
   "execution_count": 8,
   "metadata": {},
   "outputs": [
    {
     "name": "stdout",
     "output_type": "stream",
     "text": [
      "The approximate height corresponding to the threshold where 5% of the dataset has heights below is: 153.55146373048527 cm\n"
     ]
    }
   ],
   "source": [
    "import scipy.stats as stats\n",
    "\n",
    "mean = 170\n",
    "std_dev = 10\n",
    "percentile = 0.05\n",
    "\n",
    "# the Z-score corresponding to the 5th percentile\n",
    "z = stats.norm.ppf(percentile)\n",
    "\n",
    "# Calculate the height threshold\n",
    "height_threshold = (z * std_dev) + mean\n",
    "\n",
    "print(f\"The approximate height corresponding to the threshold where 5% of the dataset has heights below is: {height_threshold} cm\")\n"
   ]
  },
  {
   "attachments": {},
   "cell_type": "markdown",
   "metadata": {},
   "source": [
    "e. Calculate the coefficient of variation (CV) for the dataset."
   ]
  },
  {
   "cell_type": "code",
   "execution_count": 9,
   "metadata": {},
   "outputs": [
    {
     "name": "stdout",
     "output_type": "stream",
     "text": [
      "The coefficient of variation for the dataset is: 5.88235294117647%\n"
     ]
    }
   ],
   "source": [
    "mean = 170\n",
    "std_dev = 10\n",
    "\n",
    "coefficient_of_variation = (std_dev / mean) * 100\n",
    "\n",
    "print(f\"The coefficient of variation for the dataset is: {coefficient_of_variation}%\")"
   ]
  },
  {
   "attachments": {},
   "cell_type": "markdown",
   "metadata": {},
   "source": [
    "f. Calculate the skewness of the dataset and interpret the result."
   ]
  },
  {
   "cell_type": "code",
   "execution_count": 10,
   "metadata": {},
   "outputs": [
    {
     "name": "stdout",
     "output_type": "stream",
     "text": [
      "The skewness of the dataset is approximately: 0\n"
     ]
    }
   ],
   "source": [
    "mean = 170\n",
    "std_dev = 10\n",
    "skewness = 0\n",
    "\n",
    "print(f\"The skewness of the dataset is approximately: {skewness}\")"
   ]
  },
  {
   "attachments": {},
   "cell_type": "markdown",
   "metadata": {},
   "source": [
    "Consider the ‘Blood Pressure Before’ and ‘Blood Pressure After’ columns from the\n",
    "data and calculate the following\n",
    "https://drive.google.com/file/d/1mCjtYHiX--mMUjicuaP2gH3k-SnFxt8Y/view?usp=share_\n",
    "a. Measure the dispersion in both and interpret the results."
   ]
  },
  {
   "cell_type": "code",
   "execution_count": 25,
   "metadata": {},
   "outputs": [
    {
     "name": "stdout",
     "output_type": "stream",
     "text": [
      "Range of 'Blood Pressure Before (mmHg)': 28\n",
      "Range of 'Blood Pressure After (mmHg)': 23\n"
     ]
    }
   ],
   "source": [
    "#Range\n",
    "import pandas as pd\n",
    "\n",
    "# Load the dataset\n",
    "data = pd.read_csv(\"D:\\Assignment_Ruchita_Bhosale\\data.csv\")\n",
    "\n",
    "# Calculate the range\n",
    "range_before = data[' Blood Pressure Before (mmHg)'].max() - data[' Blood Pressure Before (mmHg)'].min()\n",
    "range_after = data[' Blood Pressure After (mmHg)'].max() - data[' Blood Pressure After (mmHg)'].min()\n",
    "\n",
    "print(f\"Range of 'Blood Pressure Before (mmHg)': {range_before:}\")\n",
    "print(f\"Range of 'Blood Pressure After (mmHg)': {range_after:}\")"
   ]
  },
  {
   "cell_type": "code",
   "execution_count": 28,
   "metadata": {},
   "outputs": [
    {
     "name": "stdout",
     "output_type": "stream",
     "text": [
      "Variance of 'Blood Pressure Before': 43.53727272727272\n",
      "Variance of 'Blood Pressure After': 47.44484848484848\n"
     ]
    }
   ],
   "source": [
    "# Calculate the variance\n",
    "variance_before = data[' Blood Pressure Before (mmHg)'].var()\n",
    "variance_after = data[' Blood Pressure After (mmHg)'].var()\n",
    "\n",
    "print(f\"Variance of 'Blood Pressure Before': {variance_before:}\")\n",
    "print(f\"Variance of 'Blood Pressure After': {variance_after:}\")"
   ]
  },
  {
   "cell_type": "code",
   "execution_count": 29,
   "metadata": {},
   "outputs": [
    {
     "name": "stdout",
     "output_type": "stream",
     "text": [
      "Standard Deviation of 'Blood Pressure Before': 6.60\n",
      "Standard Deviation of 'Blood Pressure After': 6.89\n"
     ]
    }
   ],
   "source": [
    "#Calculate the standard deviation\n",
    "std_dev_before = data[' Blood Pressure Before (mmHg)'].std()\n",
    "std_dev_after = data[' Blood Pressure After (mmHg)'].std()\n",
    "\n",
    "print(f\"Standard Deviation of 'Blood Pressure Before': {std_dev_before:.2f}\")\n",
    "print(f\"Standard Deviation of 'Blood Pressure After': {std_dev_after:.2f}\")\n"
   ]
  },
  {
   "attachments": {},
   "cell_type": "markdown",
   "metadata": {},
   "source": [
    "b. Calculate mean and 5% confidence interval and plot it in a graph"
   ]
  },
  {
   "cell_type": "code",
   "execution_count": 31,
   "metadata": {},
   "outputs": [
    {
     "name": "stdout",
     "output_type": "stream",
     "text": [
      "Mean of 'Blood Pressure Before': 133.91\n",
      "Confidence Interval (95%) of 'Blood Pressure Before': (132.55994766790545, 135.26005233209455)\n"
     ]
    }
   ],
   "source": [
    "import pandas as pd\n",
    "import numpy as np\n",
    "import matplotlib.pyplot as plt\n",
    "\n",
    "\n",
    "# Calculate the mean and standard deviation\n",
    "mean_before = data[' Blood Pressure Before (mmHg)'].mean()\n",
    "std_dev_before = data[' Blood Pressure After (mmHg)'].std()\n",
    "\n",
    "# Calculate the sample size\n",
    "n = len(data[' Blood Pressure After (mmHg)'])\n",
    "\n",
    "# Calculate the standard error\n",
    "std_error = std_dev_before / np.sqrt(n)\n",
    "\n",
    "# Calculate the margin of error for a 5% confidence interval\n",
    "margin_of_error = 1.96 * std_error  # Z-score for a 5% confidence level is approximately 1.96\n",
    "\n",
    "# Calculate the confidence interval\n",
    "confidence_interval = (mean_before - margin_of_error, mean_before + margin_of_error)\n",
    "\n",
    "# Print the mean and confidence interval\n",
    "print(f\"Mean of 'Blood Pressure Before': {mean_before:}\")\n",
    "print(f\"Confidence Interval (95%) of 'Blood Pressure Before': {confidence_interval}\")\n"
   ]
  },
  {
   "cell_type": "code",
   "execution_count": 35,
   "metadata": {},
   "outputs": [
    {
     "data": {
      "image/png": "[encoded data removed]",
      "text/plain": [
       "<Figure size 640x480 with 1 Axes>"
      ]
     },
     "metadata": {},
     "output_type": "display_data"
    }
   ],
   "source": [
    "# Create a graph\n",
    "plt.figure()\n",
    "plt.hist(data[' Blood Pressure Before (mmHg)'], bins=20, edgecolor='black', alpha=0.7)\n",
    "plt.axvline(mean_before, color='red', linestyle='dashed', linewidth=2, label='Mean')\n",
    "plt.axvline(confidence_interval[0], color='green', linestyle='dashed', linewidth=2, label='Confidence Interval (95%)')\n",
    "plt.axvline(confidence_interval[1], color='green', linestyle='dashed', linewidth=2)\n",
    "plt.xlabel('Blood Pressure Before')\n",
    "plt.ylabel('Frequency')\n",
    "plt.title('Distribution of Blood Pressure Before')\n",
    "plt.legend()\n",
    "plt.show()"
   ]
  },
  {
   "attachments": {},
   "cell_type": "markdown",
   "metadata": {},
   "source": [
    "c. Calculate the Mean absolute deviation and Standard deviation and interpret\n",
    "the results"
   ]
  },
  {
   "cell_type": "code",
   "execution_count": 34,
   "metadata": {},
   "outputs": [
    {
     "name": "stdout",
     "output_type": "stream",
     "text": [
      "Mean of 'Blood Pressure Before': 133.91\n",
      "Mean Absolute Deviation (MAD) of 'Blood Pressure Before': 5.7118\n",
      "Standard Deviation of 'Blood Pressure Before': 6.598278012275076\n"
     ]
    }
   ],
   "source": [
    "mean_before = data[' Blood Pressure Before (mmHg)'].mean()\n",
    "\n",
    "#Calculate the mean absolute deviation (MAD)\n",
    "mad_before = np.mean(np.abs(data[' Blood Pressure Before (mmHg)'] - mean_before))\n",
    "\n",
    "# Calculate the standard deviation\n",
    "std_dev_before = data[' Blood Pressure Before (mmHg)'].std()\n",
    "\n",
    "print(f\"Mean of 'Blood Pressure Before': {mean_before:}\")\n",
    "print(f\"Mean Absolute Deviation (MAD) of 'Blood Pressure Before': {mad_before:}\")\n",
    "print(f\"Standard Deviation of 'Blood Pressure Before': {std_dev_before:}\")\n"
   ]
  },
  {
   "cell_type": "code",
   "execution_count": 37,
   "metadata": {},
   "outputs": [
    {
     "name": "stdout",
     "output_type": "stream",
     "text": [
      "Correlation Coefficient: 0.9779485966556021\n",
      "P-value: 1.8097381433059864e-68\n",
      "The correlation is statistically significant at a 1% level of significance.\n"
     ]
    }
   ],
   "source": [
    "from scipy.stats import pearsonr\n",
    "\n",
    "\n",
    "# Calculate the correlation coefficient and p-value\n",
    "correlation, p_value = pearsonr(data[' Blood Pressure Before (mmHg)'], data[' Blood Pressure After (mmHg)'])\n",
    "\n",
    "print(f\"Correlation Coefficient: {correlation:}\")\n",
    "print(f\"P-value: {p_value:}\")\n",
    "\n",
    "# Check the significance at a 1% level\n",
    "alpha = 0.01\n",
    "if p_value < alpha:\n",
    "    print(\"The correlation is statistically significant at a 1% level of significance.\")\n",
    "else:\n",
    "    print(\"The correlation is not statistically significant at a 1% level of significance.\")"
   ]
  },
  {
   "attachments": {},
   "cell_type": "markdown",
   "metadata": {},
   "source": [
    "Q4 A group of 20 friends decide to play a game in which they each write a number\n",
    "between 1 and 20 on a slip of paper and put it into a hat. They then draw one slip of paper\n",
    "at random. What is the probability that the number on the slip of paper is a perfect square\n",
    "(i.e., 1, 4, 9, or 16)?\n",
    "\n"
   ]
  },
  {
   "cell_type": "code",
   "execution_count": 38,
   "metadata": {},
   "outputs": [
    {
     "name": "stdout",
     "output_type": "stream",
     "text": [
      "The probability of drawing a perfect square number is: 0.2\n"
     ]
    }
   ],
   "source": [
    "total_possible_outcomes = 20\n",
    "total_favorable_outcomes = 4\n",
    "\n",
    "probability = total_favorable_outcomes / total_possible_outcomes\n",
    "\n",
    "print(f\"The probability of drawing a perfect square number is: {probability:}\")"
   ]
  },
  {
   "attachments": {},
   "cell_type": "markdown",
   "metadata": {},
   "source": [
    "Q-5. A certain city has two taxi companies: Company A has 80% of the taxis and\n",
    "Company B has 20% of the taxis. Company A's taxis have a 95% success rate for picking\n",
    "up passengers on time, while Company B's taxis have a 90% success rate. If a randomly\n",
    "selected taxi is late, what is the probability that it belongs to Company A?"
   ]
  },
  {
   "cell_type": "code",
   "execution_count": 40,
   "metadata": {},
   "outputs": [
    {
     "name": "stdout",
     "output_type": "stream",
     "text": [
      "The probability that a randomly selected taxi, which is late, belongs to Company A is: 0.67\n"
     ]
    }
   ],
   "source": [
    "P_A = 0.8\n",
    "P_B = 0.2\n",
    "P_L_given_A = 0.05\n",
    "P_L_given_B = 0.10\n",
    "\n",
    "P_A_given_L = (P_L_given_A * P_A) / (P_L_given_A * P_A + P_L_given_B * P_B)\n",
    "\n",
    "print(f\"The probability that a randomly selected taxi, which is late, belongs to Company A is: {P_A_given_L:.2f}\")"
   ]
  },
  {
   "attachments": {},
   "cell_type": "markdown",
   "metadata": {},
   "source": [
    "Q-6. A pharmaceutical company is developing a drug that is supposed to reduce blood\n",
    "pressure. They conduct a clinical trial with 100 patients and record their blood\n",
    "pressure before and after taking the drug. The company wants to know if the change\n",
    "in blood pressure follows a normal distribution."
   ]
  },
  {
   "cell_type": "code",
   "execution_count": 41,
   "metadata": {},
   "outputs": [
    {
     "data": {
      "image/png": "[encoded data removed]",
      "text/plain": [
       "<Figure size 640x480 with 1 Axes>"
      ]
     },
     "metadata": {},
     "output_type": "display_data"
    }
   ],
   "source": [
    "import matplotlib.pyplot as plt\n",
    "import scipy.stats as stats\n",
    "\n",
    "# Compute the change in blood pressure\n",
    "bp_change = data[' Blood Pressure After (mmHg)'] - data[' Blood Pressure Before (mmHg)']\n",
    "\n",
    "# Plot a histogram\n",
    "plt.hist(bp_change, bins='auto', edgecolor='black')\n",
    "plt.xlabel('Change in Blood Pressure')\n",
    "plt.ylabel('Frequency')\n",
    "plt.title('Histogram of Change in Blood Pressure')\n",
    "plt.show()"
   ]
  },
  {
   "attachments": {},
   "cell_type": "markdown",
   "metadata": {},
   "source": [
    "Q-7. The equations of two lines of regression, obtained in a correlation analysis\n",
    "between variables X and Y are as follows:\n",
    "and . 2𝑋 + 3 − 8 = 0 2𝑌 + 𝑋 − 5 = 0 The variance of 𝑋 = 4 Find the\n",
    "a. Variance of Y\n",
    "b. Coefficient of determination of C and Y\n",
    "c. Standard error of estimate of X on Y and of Y on X."
   ]
  },
  {
   "cell_type": "code",
   "execution_count": 43,
   "metadata": {},
   "outputs": [
    {
     "name": "stdout",
     "output_type": "stream",
     "text": [
      "Variance of Y: 16\n",
      "Coefficient of determination (R^2): 4.0\n",
      "Standard error of estimate of X on Y: (4.242300954899627e-16+6.928203230275509j)\n",
      "Standard error of estimate of Y on X: (2.1211504774498136e-16+3.4641016151377544j)\n"
     ]
    }
   ],
   "source": [
    "# Variance of X (given)\n",
    "variance_X = 4\n",
    "\n",
    "# Coefficients of the regression equations\n",
    "a1, b1, c1 = 2, 3, -8\n",
    "a2, b2, c2 = 2, 1, -5\n",
    "\n",
    "# Calculate X and Y values\n",
    "X = -(c1 + b1 * (c2 + b2) / (a2 * b1 - a1 * b2)) / (a1 + a2 * b1 / b2)\n",
    "Y = (c2 + b2 * X) / a2\n",
    "\n",
    "# Variance of Y (assuming X is fixed and not random)\n",
    "variance_Y = (a2 ** 2) * variance_X\n",
    "\n",
    "# Coefficient of determination (R^2)\n",
    "R_squared = (variance_Y / variance_X)  \n",
    "\n",
    "# Standard error of estimate of X on Y and Y on X\n",
    "std_error_X_on_Y = (variance_Y * (1 - R_squared)) ** 0.5\n",
    "std_error_Y_on_X = (variance_X * (1 - R_squared)) ** 0.5\n",
    "\n",
    "print(f\"Variance of Y: {variance_Y}\")\n",
    "print(f\"Coefficient of determination (R^2): {R_squared}\")\n",
    "print(f\"Standard error of estimate of X on Y: {std_error_X_on_Y}\")\n",
    "print(f\"Standard error of estimate of Y on X: {std_error_Y_on_X}\")\n"
   ]
  },
  {
   "attachments": {},
   "cell_type": "markdown",
   "metadata": {},
   "source": [
    "Q8 The anxiety levels of 10 participants were measured before and after a new therapy.\n",
    "The scores are not normally distributed. Use the Wilcoxon signed-rank test to test whether\n",
    "the therapy had a significant effect on anxiety levels. The data is given below: Participant\n",
    "Before therapy After therapy Difference"
   ]
  },
  {
   "cell_type": "code",
   "execution_count": 44,
   "metadata": {},
   "outputs": [
    {
     "name": "stdout",
     "output_type": "stream",
     "text": [
      "Wilcoxon signed-rank test statistic: 0.0\n",
      "P-value: 0.001953125\n",
      "The therapy had a significant effect on anxiety levels.\n"
     ]
    }
   ],
   "source": [
    "from scipy.stats import wilcoxon\n",
    "\n",
    "\n",
    "before_therapy = [10, 8, 12, 15, 6, 9, 11, 7, 14, 10]\n",
    "after_therapy = [7, 6, 10, 12, 5, 8, 9, 6, 12, 8]\n",
    "\n",
    "# Perform Wilcoxon signed-rank test\n",
    "statistic, p_value = wilcoxon(before_therapy, after_therapy)\n",
    "\n",
    "alpha = 0.05  # Significance level\n",
    "\n",
    "print(f\"Wilcoxon signed-rank test statistic: {statistic:}\")\n",
    "print(f\"P-value: {p_value:}\")\n",
    "\n",
    "if p_value < alpha:\n",
    "    print(\"The therapy had a significant effect on anxiety levels.\")\n",
    "else:\n",
    "    print(\"The therapy did not have a significant effect on anxiety levels.\")"
   ]
  },
  {
   "attachments": {},
   "cell_type": "markdown",
   "metadata": {},
   "source": [
    "Q9 Test the hypothesis that the mean scores of all the students are the same. If not, name the\n",
    "student with the highest score."
   ]
  },
  {
   "cell_type": "code",
   "execution_count": 45,
   "metadata": {},
   "outputs": [
    {
     "name": "stdout",
     "output_type": "stream",
     "text": [
      "One-way ANOVA test statistic: 0.2910\n",
      "P-value: 0.7527\n",
      "Fail to reject the null hypothesis. The mean scores are the same.\n"
     ]
    }
   ],
   "source": [
    "from scipy.stats import f_oneway\n",
    "\n",
    "# Data\n",
    "exam_1 = [85, 70, 90, 75, 95]\n",
    "exam_2 = [92, 80, 85, 70, 92]\n",
    "final_exam = [92, 85, 88, 75, 96]\n",
    "\n",
    "# Perform one-way ANOVA\n",
    "statistic, p_value = f_oneway(exam_1, exam_2, final_exam)\n",
    "\n",
    "alpha = 0.05  # Significance level\n",
    "\n",
    "print(f\"One-way ANOVA test statistic: {statistic:.4f}\")\n",
    "print(f\"P-value: {p_value:.4f}\")\n",
    "\n",
    "if p_value < alpha:\n",
    "    print(\"Reject the null hypothesis. The mean scores are not the same.\")\n",
    "    # Find the student with the highest score\n",
    "    scores = exam_1 + exam_2 + final_exam\n",
    "    max_score = max(scores)\n",
    "    student_names = ['Karan', 'Deepa', 'Karthik', 'Chandan', 'Jeevan']\n",
    "    student_with_max_score = student_names[scores.index(max_score)]\n",
    "    print(f\"The student with the highest score is: {student_with_max_score}\")\n",
    "else:\n",
    "    print(\"Fail to reject the null hypothesis. The mean scores are the same.\")"
   ]
  },
  {
   "attachments": {},
   "cell_type": "markdown",
   "metadata": {},
   "source": [
    "Q-10. A factory produces light bulbs, and the probability of a bulb being defective is 0.05.\n",
    "The factory produces a large batch of 500 light bulbs.\n",
    "a. What is the probability that exactly 20 bulbs are defective?\n",
    "b. What is the probability that at least 10 bulbs are defective?\n",
    "c. What is the probability that at max 15 bulbs are defective?\n",
    "d. On average, how many defective bulbs would you expect in a batch of 500?"
   ]
  },
  {
   "cell_type": "code",
   "execution_count": 46,
   "metadata": {},
   "outputs": [
    {
     "name": "stdout",
     "output_type": "stream",
     "text": [
      "The probability of exactly 20 bulbs being defective: 0.051616192536641056\n"
     ]
    }
   ],
   "source": [
    "from scipy.stats import binom\n",
    "\n",
    "n = 500  # Number of trials (bulbs produced)\n",
    "p = 0.05  # Probability of success (bulb being defective)\n",
    "\n",
    "probability_20_defective = binom.pmf(20, n, p)\n",
    "print(f\"The probability of exactly 20 bulbs being defective: {probability_20_defective:}\")"
   ]
  },
  {
   "cell_type": "code",
   "execution_count": 47,
   "metadata": {},
   "outputs": [
    {
     "name": "stdout",
     "output_type": "stream",
     "text": [
      "The probability of at least 10 bulbs being defective: 0.9998316463654902\n"
     ]
    }
   ],
   "source": [
    "probability_at_least_10_defective = 1 - binom.cdf(9, n, p)\n",
    "print(f\"The probability of at least 10 bulbs being defective: {probability_at_least_10_defective:}\")"
   ]
  },
  {
   "cell_type": "code",
   "execution_count": 48,
   "metadata": {},
   "outputs": [
    {
     "name": "stdout",
     "output_type": "stream",
     "text": [
      "The probability of at most 15 bulbs being defective: 0.01985837716300661\n"
     ]
    }
   ],
   "source": [
    "probability_at_most_15_defective = binom.cdf(15, n, p)\n",
    "print(f\"The probability of at most 15 bulbs being defective: {probability_at_most_15_defective:}\")"
   ]
  },
  {
   "cell_type": "code",
   "execution_count": 50,
   "metadata": {},
   "outputs": [
    {
     "name": "stdout",
     "output_type": "stream",
     "text": [
      "The expected number of defective bulbs in a batch of 500: 25.0\n"
     ]
    }
   ],
   "source": [
    "expected_defective_bulbs = n * p\n",
    "print(f\"The expected number of defective bulbs in a batch of 500: {expected_defective_bulbs}\")\n"
   ]
  },
  {
   "attachments": {},
   "cell_type": "markdown",
   "metadata": {},
   "source": [
    "Q-12. A pharmaceutical company develops a new drug and wants to compare its\n",
    "effectiveness against a standard drug for treating a particular condition. They conduct a\n",
    "study with two groups: Group A receives the new drug, and Group B receives the standard\n",
    "drug. The company measures the improvement in a specific symptom for both groups after\n",
    "a 4-week treatment period.\n",
    "a. The company collects data from 30 patients in each group and calculates the\n",
    "mean improvement score and the standard deviation of improvement for each\n",
    "group. The mean improvement score for Group A is 2.5 with a standard\n",
    "deviation of 0.8, while the mean improvement score for Group B is 2.2 with a\n",
    "standard deviation of 0.6. Conduct a t-test to determine if there is a significant\n",
    "difference in the mean improvement scores between the two groups. Use a\n",
    "significance level of 0.05.\n",
    "b. Based on the t-test results, state whether the null hypothesis should be\n",
    "rejected or not. Provide a conclusion in the context of the study."
   ]
  },
  {
   "cell_type": "code",
   "execution_count": 51,
   "metadata": {},
   "outputs": [
    {
     "name": "stdout",
     "output_type": "stream",
     "text": [
      "Fail to reject the null hypothesis.\n",
      "There is no significant difference in the mean improvement scores between the two groups.\n"
     ]
    }
   ],
   "source": [
    "# Data for Group A\n",
    "mean_A = 2.5\n",
    "std_dev_A = 0.8\n",
    "sample_size_A = 30\n",
    "\n",
    "# Data for Group B\n",
    "mean_B = 2.2\n",
    "std_dev_B = 0.6\n",
    "sample_size_B = 30\n",
    "\n",
    "# Conducting independent t-test\n",
    "t_statistic, p_value = stats.ttest_ind_from_stats(mean_A, std_dev_A, sample_size_A, mean_B, std_dev_B, sample_size_B)\n",
    "\n",
    "# Setting significance level\n",
    "alpha = 0.05\n",
    "\n",
    "# Checking if the null hypothesis should be rejected or not\n",
    "if p_value < alpha:\n",
    "    print(\"Reject the null hypothesis.\")\n",
    "else:\n",
    "    print(\"Fail to reject the null hypothesis.\")\n",
    "\n",
    "# Printing the conclusion\n",
    "if p_value < alpha:\n",
    "    print(\"There is a significant difference in the mean improvement scores between the two groups.\")\n",
    "else:\n",
    "    print(\"There is no significant difference in the mean improvement scores between the two groups.\")"
   ]
  },
  {
   "cell_type": "code",
   "execution_count": null,
   "metadata": {},
   "outputs": [],
   "source": []
  }
 ],
 "metadata": {
  "kernelspec": {
   "display_name": "Python 3",
   "language": "python",
   "name": "python3"
  },
  "language_info": {
   "codemirror_mode": {
    "name": "ipython",
    "version": 3
   },
   "file_extension": ".py",
   "mimetype": "text/x-python",
   "name": "python",
   "nbconvert_exporter": "python",
   "pygments_lexer": "ipython3",
   "version": "3.8.2"
  },
  "orig_nbformat": 4
 },
 "nbformat": 4,
 "nbformat_minor": 2
}
