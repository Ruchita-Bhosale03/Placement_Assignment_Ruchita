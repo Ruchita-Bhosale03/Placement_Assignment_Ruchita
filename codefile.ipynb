{
 "cells": [
  {
   "cell_type": "code",
   "execution_count": 1,
   "metadata": {},
   "outputs": [
    {
     "name": "stdout",
     "output_type": "stream",
     "text": [
      "       id                                                url   \n",
      "0  869671  https://www.tvmaze.com/episodes/869671/westwor...  \\\n",
      "1  911201  https://www.tvmaze.com/episodes/911201/westwor...   \n",
      "2  911204  https://www.tvmaze.com/episodes/911204/westwor...   \n",
      "3  911205  https://www.tvmaze.com/episodes/911205/westwor...   \n",
      "4  927174  https://www.tvmaze.com/episodes/927174/westwor...   \n",
      "\n",
      "                name  season  number     type     airdate airtime   \n",
      "0       The Original       1       1  regular  2016-10-02   21:00  \\\n",
      "1           Chestnut       1       2  regular  2016-10-09   21:00   \n",
      "2          The Stray       1       3  regular  2016-10-16   21:00   \n",
      "3  Dissonance Theory       1       4  regular  2016-10-23   21:00   \n",
      "4        Contrapasso       1       5  regular  2016-10-30   21:00   \n",
      "\n",
      "                    airstamp  runtime            rating   \n",
      "0  2016-10-03T01:00:00+00:00       68    {'average': 8}  \\\n",
      "1  2016-10-10T01:00:00+00:00       60  {'average': 7.7}   \n",
      "2  2016-10-17T01:00:00+00:00       60  {'average': 7.6}   \n",
      "3  2016-10-24T01:00:00+00:00       60  {'average': 7.9}   \n",
      "4  2016-10-31T01:00:00+00:00       60    {'average': 8}   \n",
      "\n",
      "                                               image   \n",
      "0  {'medium': 'https://static.tvmaze.com/uploads/...  \\\n",
      "1  {'medium': 'https://static.tvmaze.com/uploads/...   \n",
      "2  {'medium': 'https://static.tvmaze.com/uploads/...   \n",
      "3  {'medium': 'https://static.tvmaze.com/uploads/...   \n",
      "4  {'medium': 'https://static.tvmaze.com/uploads/...   \n",
      "\n",
      "                                             summary   \n",
      "0  <p>A woman named Dolores is a free spirit in t...  \\\n",
      "1  <p>Bernard suspects that someone is sabotaging...   \n",
      "2  <p>Bernard continues to investigate Dolores' s...   \n",
      "3  <p>While Dolores joins William and Logan on th...   \n",
      "4  <p>Dolores takes the first step on her path of...   \n",
      "\n",
      "                                              _links  \n",
      "0  {'self': {'href': 'https://api.tvmaze.com/epis...  \n",
      "1  {'self': {'href': 'https://api.tvmaze.com/epis...  \n",
      "2  {'self': {'href': 'https://api.tvmaze.com/epis...  \n",
      "3  {'self': {'href': 'https://api.tvmaze.com/epis...  \n",
      "4  {'self': {'href': 'https://api.tvmaze.com/epis...  \n"
     ]
    }
   ],
   "source": [
    "import requests\n",
    "import pandas as pd\n",
    "\n",
    "# Fetch data from the API\n",
    "api_url = \"http://api.tvmaze.com/singlesearch/shows?q=westworld&embed=episodes\"\n",
    "response = requests.get(api_url)\n",
    "data = response.json()\n",
    "\n",
    "if \"_embedded\" in data and \"episodes\" in data[\"_embedded\"]:\n",
    "        episodes_data = data[\"_embedded\"][\"episodes\"]\n",
    "\n",
    "        df = pd.DataFrame(episodes_data)\n",
    "        print(df.head())\n"
   ]
  },
  {
   "cell_type": "code",
   "execution_count": 4,
   "metadata": {},
   "outputs": [],
   "source": [
    "import requests\n",
    "import pandas as pd\n",
    "import matplotlib.pyplot as plt\n",
    "\n",
    "api_url = \"http://api.tvmaze.com/singlesearch/shows?q=westworld&embed=episodes\"\n",
    "\n",
    "response = requests.get(api_url)\n",
    "data = response.json()\n",
    "\n",
    "# Extract the episodes data\n",
    "episodes_data = data[\"_embedded\"][\"episodes\"]\n",
    "\n",
    "# Create a DataFrame from the episodes data\n",
    "df = pd.DataFrame(episodes_data)\n",
    "\n",
    "# Convert 'rating' column to numeric type\n",
    "df['rating'] = pd.to_numeric(df['rating'], errors='coerce')\n",
    "\n",
    "# Convert 'season' column to numeric type for proper sorting\n",
    "df['season'] = pd.to_numeric(df['season'])\n"
   ]
  },
  {
   "cell_type": "code",
   "execution_count": 6,
   "metadata": {},
   "outputs": [
    {
     "name": "stdout",
     "output_type": "stream",
     "text": [
      "Series([], Name: name, dtype: object)\n"
     ]
    }
   ],
   "source": [
    "df['rating'] = pd.to_numeric(df['rating'])\n",
    "\n",
    "df['season'] = pd.to_numeric(df['season'])\n",
    "\n",
    "highest_rating_episode = df.groupby('season')['rating'].idxmax().dropna()\n",
    "\n",
    "# Get the episode names with the highest rating\n",
    "highest_rating_names = df.loc[highest_rating_episode, 'name']\n",
    "\n",
    "# Print the output\n",
    "print(highest_rating_names)\n"
   ]
  },
  {
   "cell_type": "code",
   "execution_count": 7,
   "metadata": {},
   "outputs": [
    {
     "name": "stdout",
     "output_type": "stream",
     "text": [
      "Series([], Name: name, dtype: object)\n"
     ]
    }
   ],
   "source": [
    "import requests\n",
    "import pandas as pd\n",
    "\n",
    "api_url = \"http://api.tvmaze.com/singlesearch/shows?q=westworld&embed=episodes\"\n",
    "\n",
    "response = requests.get(api_url)\n",
    "data = response.json()\n",
    "\n",
    "# Extract the episodes data\n",
    "episodes_data = data[\"_embedded\"][\"episodes\"]\n",
    "\n",
    "# Create a DataFrame from the episodes data\n",
    "df = pd.DataFrame(episodes_data)\n",
    "\n",
    "# Convert 'rating' column to numeric type\n",
    "df['rating'] = pd.to_numeric(df['rating'], errors='coerce')\n",
    "\n",
    "# Convert 'season' column to numeric type for proper sorting\n",
    "df['season'] = pd.to_numeric(df['season'], errors='coerce')\n",
    "\n",
    "# Drop rows with missing values in 'rating' and 'season' columns\n",
    "df = df.dropna(subset=['rating', 'season'])\n",
    "\n",
    "# Convert 'season' column to integer type\n",
    "df['season'] = df['season'].astype(int)\n",
    "\n",
    "highest_rating_episode = df.groupby('season')['rating'].idxmax().dropna()\n",
    "\n",
    "# Get the episode names with the highest rating\n",
    "highest_rating_names = df.loc[highest_rating_episode, 'name']\n",
    "\n",
    "# Print the output\n",
    "print(highest_rating_names)"
   ]
  },
  {
   "cell_type": "code",
   "execution_count": 8,
   "metadata": {},
   "outputs": [
    {
     "data": {
      "text/html": [
       "<div>\n",
       "<style scoped>\n",
       "    .dataframe tbody tr th:only-of-type {\n",
       "        vertical-align: middle;\n",
       "    }\n",
       "\n",
       "    .dataframe tbody tr th {\n",
       "        vertical-align: top;\n",
       "    }\n",
       "\n",
       "    .dataframe thead th {\n",
       "        text-align: right;\n",
       "    }\n",
       "</style>\n",
       "<table border=\"1\" class=\"dataframe\">\n",
       "  <thead>\n",
       "    <tr style=\"text-align: right;\">\n",
       "      <th></th>\n",
       "      <th>id</th>\n",
       "      <th>url</th>\n",
       "      <th>name</th>\n",
       "      <th>season</th>\n",
       "      <th>number</th>\n",
       "      <th>type</th>\n",
       "      <th>airdate</th>\n",
       "      <th>airtime</th>\n",
       "      <th>airstamp</th>\n",
       "      <th>runtime</th>\n",
       "      <th>rating</th>\n",
       "      <th>image</th>\n",
       "      <th>summary</th>\n",
       "      <th>_links</th>\n",
       "    </tr>\n",
       "  </thead>\n",
       "  <tbody>\n",
       "  </tbody>\n",
       "</table>\n",
       "</div>"
      ],
      "text/plain": [
       "Empty DataFrame\n",
       "Columns: [id, url, name, season, number, type, airdate, airtime, airstamp, runtime, rating, image, summary, _links]\n",
       "Index: []"
      ]
     },
     "execution_count": 8,
     "metadata": {},
     "output_type": "execute_result"
    }
   ],
   "source": [
    "df"
   ]
  },
  {
   "cell_type": "code",
   "execution_count": null,
   "metadata": {},
   "outputs": [],
   "source": []
  }
 ],
 "metadata": {
  "kernelspec": {
   "display_name": "Python 3",
   "language": "python",
   "name": "python3"
  },
  "language_info": {
   "codemirror_mode": {
    "name": "ipython",
    "version": 3
   },
   "file_extension": ".py",
   "mimetype": "text/x-python",
   "name": "python",
   "nbconvert_exporter": "python",
   "pygments_lexer": "ipython3",
   "version": "3.8.2"
  },
  "orig_nbformat": 4
 },
 "nbformat": 4,
 "nbformat_minor": 2
}
